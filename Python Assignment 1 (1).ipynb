{
 "cells": [
  {
   "cell_type": "markdown",
   "metadata": {},
   "source": [
    "1. Write a program which will find all such numbers which are divisible by 7 but are not a multiple\n",
    "of 5, between 2000 and 3200 (both included). The numbers obtained should be printed in a\n",
    "comma-separated sequence on a single line."
   ]
  },
  {
   "cell_type": "code",
   "execution_count": null,
   "metadata": {},
   "outputs": [],
   "source": [
    "l = []\n",
    "\n",
    "for i in range(2000, 3201):\n",
    "    \n",
    "    if i%7 == 0 and i%5 != 0:\n",
    "        \n",
    "        l.append(str(i))\n",
    "        \n",
    "print(\", \".join(l))"
   ]
  },
  {
   "cell_type": "markdown",
   "metadata": {},
   "source": [
    "2. Write a Python program to accept the user's first and last name and then getting them printed in\n",
    "the the reverse order with a space between first name and last name."
   ]
  },
  {
   "cell_type": "code",
   "execution_count": null,
   "metadata": {},
   "outputs": [],
   "source": [
    "firstname = list(input(\"Enter First name: \"))\n",
    "lastname = input(\"Enter Last name: \")\n",
    "\n",
    "f = []\n",
    "\n",
    "l = []\n",
    "\n",
    "for i in range(len(firstname) - 1, -1, -1):\n",
    "    \n",
    "    f.append(firstname[i])\n",
    "\n",
    "for i in range(len(lastname) - 1, -1, -1):\n",
    "    \n",
    "    l.append(lastname[i])\n",
    "    \n",
    "print(\"\".join(f) + \" \" + \"\".join(l))"
   ]
  },
  {
   "cell_type": "markdown",
   "metadata": {},
   "source": [
    "3. Write a Python program to find the volume of a sphere with diameter 12 cm.\n",
    "   Formula: V=4/3 * π * r 3"
   ]
  },
  {
   "cell_type": "code",
   "execution_count": 1,
   "metadata": {},
   "outputs": [
    {
     "name": "stdout",
     "output_type": "stream",
     "text": [
      "Volume of sphere is: 904.3199999999999\n"
     ]
    }
   ],
   "source": [
    "Dia = 12\n",
    "PIE = 3.14\n",
    "\n",
    "r = (Dia / 2)\n",
    "\n",
    "vol = (4/3) * PIE * (r**3)\n",
    "\n",
    "print(\"Volume of sphere is: {}\".format(vol))"
   ]
  }
 ],
 "metadata": {
  "kernelspec": {
   "display_name": "Python 3",
   "language": "python",
   "name": "python3"
  },
  "language_info": {
   "codemirror_mode": {
    "name": "ipython",
    "version": 3
   },
   "file_extension": ".py",
   "mimetype": "text/x-python",
   "name": "python",
   "nbconvert_exporter": "python",
   "pygments_lexer": "ipython3",
   "version": "3.7.4"
  }
 },
 "nbformat": 4,
 "nbformat_minor": 2
}
